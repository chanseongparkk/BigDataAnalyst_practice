{
  "nbformat": 4,
  "nbformat_minor": 0,
  "metadata": {
    "colab": {
      "provenance": [],
      "mount_file_id": "1Oi-GJcLti0ZeGzsAsXpCCGeQw_nEsnfo",
      "authorship_tag": "ABX9TyPcdbDGlDGTkFR3sgSQnkKT",
      "include_colab_link": true
    },
    "kernelspec": {
      "name": "python3",
      "display_name": "Python 3"
    },
    "language_info": {
      "name": "python"
    }
  },
  "cells": [
    {
      "cell_type": "markdown",
      "metadata": {
        "id": "view-in-github",
        "colab_type": "text"
      },
      "source": [
        "<a href=\"https://colab.research.google.com/github/chanseongparkk/BigDataAnalyst_practise/blob/main/diabetes.ipynb\" target=\"_parent\"><img src=\"https://colab.research.google.com/assets/colab-badge.svg\" alt=\"Open In Colab\"/></a>"
      ]
    },
    {
      "cell_type": "code",
      "execution_count": null,
      "metadata": {
        "colab": {
          "base_uri": "https://localhost:8080/"
        },
        "id": "BHipy5OlUX65",
        "outputId": "ef430f87-ccbe-4734-f0c3-a2c33db4bf11"
      },
      "outputs": [
        {
          "output_type": "stream",
          "name": "stdout",
          "text": [
            "/content/drive/My Drive/빅데이터분석기사 실기\n"
          ]
        }
      ],
      "source": [
        "cd drive/My Drive/빅데이터분석기사 실기"
      ]
    },
    {
      "cell_type": "markdown",
      "source": [
        "## 당뇨병 여부 판단\n",
        "- 이상치 처리 (Glucose, BloodPressure, SkinThickness, Insulin, BMI가 0인 값)"
      ],
      "metadata": {
        "id": "TdxzangAUnKX"
      }
    },
    {
      "cell_type": "markdown",
      "source": [
        "## [참고]작업형2 문구\n",
        "- 출력을 원하실 경우 print() 함수 활용\n",
        "- 예시) print(df.head())\n",
        "- getcwd(), chdir() 등 작업 폴더 설정 불필요\n",
        "- 파일 경로 상 내부 드라이브 경로(C: 등) 접근 불가\n",
        "\n",
        "### 데이터 파일 읽기 예제\n",
        "- import pandas as pd\n",
        "- X_test = pd.read_csv(\"data/X_test.csv\")\n",
        "- X_train = pd.read_csv(\"data/X_train.csv\")\n",
        "- y_train = pd.read_csv(\"data/y_train.csv\")\n",
        "\n",
        "### 사용자 코딩\n",
        "\n",
        "### 답안 제출 참고\n",
        "- 아래 코드 예측변수와 수험번호를 개인별로 변경하여 활용\n",
        "- pd.DataFrame({'cust_id': X_test.cust_id, 'gender': pred}).to_csv('003000000.csv', index=False)"
      ],
      "metadata": {
        "id": "k-NsinzFUn-E"
      }
    },
    {
      "cell_type": "code",
      "source": [
        "# 시험환경 세팅 (코드 변경 X)\n",
        "import pandas as pd\n",
        "import numpy as np\n",
        "from sklearn.model_selection import train_test_split\n",
        "\n",
        "def exam_data_load(df, target, id_name=\"\", null_name=\"\"):\n",
        "    if id_name == \"\":\n",
        "        df = df.reset_index().rename(columns={\"index\": \"id\"})\n",
        "        id_name = 'id'\n",
        "    else:\n",
        "        id_name = id_name\n",
        "    \n",
        "    if null_name != \"\":\n",
        "        df[df == null_name] = np.nan\n",
        "    \n",
        "    X_train, X_test = train_test_split(df, test_size=0.2, random_state=2021)\n",
        "    \n",
        "    y_train = X_train[[id_name, target]]\n",
        "    X_train = X_train.drop(columns=[target])\n",
        "\n",
        "    \n",
        "    y_test = X_test[[id_name, target]]\n",
        "    X_test = X_test.drop(columns=[target])\n",
        "    return X_train, X_test, y_train, y_test \n",
        "    \n",
        "df = pd.read_csv(\"diabetes.csv\")\n",
        "X_train, X_test, y_train, y_test = exam_data_load(df, target='Outcome')\n",
        "\n",
        "X_train.shape, X_test.shape, y_train.shape, y_test.shape"
      ],
      "metadata": {
        "colab": {
          "base_uri": "https://localhost:8080/"
        },
        "id": "8kjlydHaUZM6",
        "outputId": "6c58d79b-74ae-42e1-a934-c12ccb871f92"
      },
      "execution_count": null,
      "outputs": [
        {
          "output_type": "execute_result",
          "data": {
            "text/plain": [
              "((614, 9), (154, 9), (614, 2), (154, 2))"
            ]
          },
          "metadata": {},
          "execution_count": 35
        }
      ]
    },
    {
      "cell_type": "code",
      "source": [
        "# ID 따로 분할 후 ID열 삭제\n",
        "X_train_id = X_train.iloc[:,0]\n",
        "X_test_id = X_test.iloc[:,0]\n",
        "\n",
        "X_train = X_train.drop([\"id\"],axis = 1)\n",
        "X_test = X_test.drop([\"id\"], axis = 1)"
      ],
      "metadata": {
        "id": "eW_gJ2ivcbj4"
      },
      "execution_count": null,
      "outputs": []
    },
    {
      "cell_type": "code",
      "source": [
        "print(X_train.shape, X_test.shape, y_train.shape)\n",
        "print(X_train.info(), X_test.info())"
      ],
      "metadata": {
        "colab": {
          "base_uri": "https://localhost:8080/"
        },
        "id": "ZSmBcrvgU0yS",
        "outputId": "cb51aa74-e7bb-46e3-e578-17e280ea4734"
      },
      "execution_count": null,
      "outputs": [
        {
          "output_type": "stream",
          "name": "stdout",
          "text": [
            "(614, 8) (154, 8) (614, 2)\n",
            "<class 'pandas.core.frame.DataFrame'>\n",
            "Int64Index: 614 entries, 147 to 116\n",
            "Data columns (total 8 columns):\n",
            " #   Column                    Non-Null Count  Dtype  \n",
            "---  ------                    --------------  -----  \n",
            " 0   Pregnancies               614 non-null    int64  \n",
            " 1   Glucose                   614 non-null    int64  \n",
            " 2   BloodPressure             614 non-null    int64  \n",
            " 3   SkinThickness             614 non-null    int64  \n",
            " 4   Insulin                   614 non-null    int64  \n",
            " 5   BMI                       614 non-null    float64\n",
            " 6   DiabetesPedigreeFunction  614 non-null    float64\n",
            " 7   Age                       614 non-null    int64  \n",
            "dtypes: float64(2), int64(6)\n",
            "memory usage: 43.2 KB\n",
            "<class 'pandas.core.frame.DataFrame'>\n",
            "Int64Index: 154 entries, 258 to 174\n",
            "Data columns (total 8 columns):\n",
            " #   Column                    Non-Null Count  Dtype  \n",
            "---  ------                    --------------  -----  \n",
            " 0   Pregnancies               154 non-null    int64  \n",
            " 1   Glucose                   154 non-null    int64  \n",
            " 2   BloodPressure             154 non-null    int64  \n",
            " 3   SkinThickness             154 non-null    int64  \n",
            " 4   Insulin                   154 non-null    int64  \n",
            " 5   BMI                       154 non-null    float64\n",
            " 6   DiabetesPedigreeFunction  154 non-null    float64\n",
            " 7   Age                       154 non-null    int64  \n",
            "dtypes: float64(2), int64(6)\n",
            "memory usage: 10.8 KB\n",
            "None None\n"
          ]
        }
      ]
    },
    {
      "cell_type": "code",
      "source": [
        "# 시험환경 세팅 (코드 변경 X)\n",
        "import pandas as pd\n",
        "import numpy as np\n",
        "from sklearn.model_selection import train_test_split\n",
        "\n",
        "def exam_data_load(df, target, id_name=\"\", null_name=\"\"):\n",
        "    if id_name == \"\":\n",
        "        df = df.reset_index().rename(columns={\"index\": \"id\"})\n",
        "        id_name = 'id'\n",
        "    else:\n",
        "        id_name = id_name\n",
        "    \n",
        "    if null_name != \"\":\n",
        "        df[df == null_name] = np.nan\n",
        "    \n",
        "    X_train, X_test = train_test_split(df, test_size=0.2, random_state=2021)\n",
        "    \n",
        "    y_train = X_train[[id_name, target]]\n",
        "    X_train = X_train.drop(columns=[target])\n",
        "\n",
        "    \n",
        "    y_test = X_test[[id_name, target]]\n",
        "    X_test = X_test.drop(columns=[target])\n",
        "    return X_train, X_test, y_train, y_test \n",
        "    \n",
        "df = pd.read_csv(\"diabetes.csv\")\n",
        "X_train, X_test, y_train, y_test = exam_data_load(df, target='Outcome')\n",
        "\n",
        "X_train.shape, X_test.shape, y_train.shape, y_test.shape\n",
        "#print(X_train.info(),\"\\n\\n\\n\",X_test.info())\n",
        "\n",
        "# ID 따로 분할 후 ID열 삭제\n",
        "X_train_id = pd.DataFrame(X_train.iloc[:,0])\n",
        "X_test_id = pd.DataFrame(X_test.iloc[:,0])\n",
        "y_train_id = pd.DataFrame(y_train.iloc[:,0])\n",
        "y_test_id = pd.DataFrame(y_test.iloc[:,0])\n",
        "\n",
        "X_train = X_train.drop([\"id\"],axis = 1)\n",
        "X_test = X_test.drop([\"id\"], axis = 1)\n",
        "y_train = y_train.iloc[:,1]\n",
        "y_test = y_test.iloc[:,1]\n",
        "\n",
        "# 이상치 처리(중앙값 대체)\n",
        "#print(X_train.describe, \"\\n\\n\\n\" ,X_test.describe())\n",
        "Xtr_median = X_train.median(axis = 0)\n",
        "Xte_median = X_test.median(axis = 0)\n",
        "X_train.Glucose = X_train.Glucose.replace(0,Xtr_median[\"Glucose\"])\n",
        "X_train.BloodPressure = X_train.BloodPressure.replace(0,Xtr_median[\"BloodPressure\"])\n",
        "X_train.SkinThickness = X_train.SkinThickness.replace(0,Xtr_median[\"SkinThickness\"])\n",
        "X_train.Insulin = X_train.Insulin.replace(0,Xtr_median[\"Insulin\"])\n",
        "X_train.BMI = X_train.BMI.replace(0,Xte_median[\"BMI\"])\n",
        "X_test.Glucose = X_test.Glucose.replace(0,Xte_median[\"Glucose\"])\n",
        "X_test.BloodPressure = X_test.BloodPressure.replace(0,Xte_median[\"BloodPressure\"])\n",
        "X_test.SkinThickness = X_test.SkinThickness.replace(0,Xte_median[\"SkinThickness\"])\n",
        "X_test.Insulin = X_test.Insulin.replace(0,Xte_median[\"Insulin\"])\n",
        "X_test.BMI = X_test.BMI.replace(0,Xte_median[\"BMI\"])\n",
        "\n",
        "# 데이터데 대한 적절한 변환(로그(0,6), 제곱근(1,3,4,5,7), 필요없음(2))\n",
        "'''print(X_train.skew(),X_train.kurt(),\"\\n\\n\"\n",
        "      np.log1p(X_train).skew(),np.log1p(X_train),kurt(),\"\\n\\n\",\n",
        "      np.sqrt(X_train).skew(),np.sqrt(X_train).kurt())'''\n",
        "\n",
        "X_train.iloc[:,[0,6]] = np.sqrt(X_train.iloc[:,[0,6]])\n",
        "X_test.iloc[:,[0,6]] = np.sqrt(X_test.iloc[:,[0,6]])\n",
        "X_train.iloc[:,[1,3,4,5,7]] = np.log1p(X_train.iloc[:,[1,3,4,5,7]])\n",
        "X_test.iloc[:,[1,3,4,5,7]] = np.log1p(X_test.iloc[:,[1,3,4,5,7]])\n",
        "\n",
        "# print(X_train.describe(),\"\\n\\n\\n\" ,X_test.describe())\n",
        "\n",
        "# 데이터 정규화(StandardScaler)\n",
        "\n",
        "from sklearn.preprocessing import StandardScaler\n",
        "\n",
        "scaler = StandardScaler()\n",
        "\n",
        "X_train = pd.DataFrame(scaler.fit_transform(X_train), columns = X_train.columns)\n",
        "X_test = pd.DataFrame(scaler.transform(X_test), columns = X_test.columns)\n",
        "\n",
        "# print(X_train.describe(),\"\\n\\n\\n\" ,X_test.describe())\n",
        "\n",
        "# 모델링(RandomForest)\n",
        "from sklearn.ensemble import RandomForestClassifier\n",
        "from sklearn.metrics import roc_auc_score\n",
        "rf = RandomForestClassifier(n_estimators =200, max_depth = 5, min_samples_split = 10, random_state = 999)\n",
        "\n",
        "rf.fit(X_train, y_train)\n",
        "\n",
        "print(\"randomforest accuracy : \", rf.score(X_train,y_train),\"\\n\",\n",
        "      \"randomforest roc_auc_score : \", roc_auc_score(y_train, rf.predict(X_train)))\n",
        "\n",
        "# 모델링(XGBClassifier)\n",
        "from xgboost import XGBClassifier\n",
        "xgb = XGBClassifier(n_estimators = 100, max_depth = 5, subsample = 0.25, random_state = 999)\n",
        "xgb.fit(X_train,y_train, eval_metric = \"auc\")\n",
        "\n",
        "print(\"xgboost accuracy : \", xgb.score(X_train,y_train),\"\\n\",\n",
        "      \"xgboost roc_auc_score : \", roc_auc_score(y_train, xgb.predict(X_train)))\n",
        "\n",
        "pred = pd.DataFrame(rf.predict(X_test))\n",
        "X_test_id = X_test_id.reset_index(drop=True)\n",
        "final = pd.concat([X_test_id,pred],axis=1)\n",
        "final.to_csv(\"004002335.csv\", index = False)\n"
      ],
      "metadata": {
        "colab": {
          "base_uri": "https://localhost:8080/"
        },
        "id": "k1vlt7HdVOsf",
        "outputId": "17bbec2b-b10b-4838-99b9-6b8543af8819"
      },
      "execution_count": null,
      "outputs": [
        {
          "output_type": "stream",
          "name": "stdout",
          "text": [
            "randomforest accuracy :  0.8420195439739414 \n",
            " randomforest roc_auc_score :  0.8006244634436043\n",
            "xgboost accuracy :  0.9136807817589576 \n",
            " xgboost roc_auc_score :  0.8947291051709336\n"
          ]
        }
      ]
    },
    {
      "cell_type": "code",
      "source": [
        "print(\"randomforest accuracy : \", rf.score(X_test,y_test),\"\\n\",\n",
        "      \"randomforest roc_auc_score : \", roc_auc_score(y_test, rf.predict(X_test)))\n",
        "print(\"xgboost accuracy : \", xgb.score(X_test,y_test),\"\\n\",\n",
        "      \"xgboost roc_auc_score : \", roc_auc_score(y_test, xgb.predict(X_test)))"
      ],
      "metadata": {
        "colab": {
          "base_uri": "https://localhost:8080/"
        },
        "id": "HMkDmyYBl3RZ",
        "outputId": "24f2e8db-ba8f-482b-dc96-3675837088dc"
      },
      "execution_count": null,
      "outputs": [
        {
          "output_type": "stream",
          "name": "stdout",
          "text": [
            "randomforest accuracy :  0.7922077922077922 \n",
            " randomforest roc_auc_score :  0.7518538614577681\n",
            "xgboost accuracy :  0.7532467532467533 \n",
            " xgboost roc_auc_score :  0.7209260264062217\n"
          ]
        }
      ]
    }
  ]
}