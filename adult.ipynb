{
  "nbformat": 4,
  "nbformat_minor": 0,
  "metadata": {
    "colab": {
      "provenance": [],
      "mount_file_id": "1xF1eiKRj6Qlg9UJ1J3I0SFYZI4N147eB",
      "authorship_tag": "ABX9TyO+6RYH9G+knoicsMXTIsud",
      "include_colab_link": true
    },
    "kernelspec": {
      "name": "python3",
      "display_name": "Python 3"
    },
    "language_info": {
      "name": "python"
    }
  },
  "cells": [
    {
      "cell_type": "markdown",
      "metadata": {
        "id": "view-in-github",
        "colab_type": "text"
      },
      "source": [
        "<a href=\"https://colab.research.google.com/github/chanseongparkk/BigDataAnalyst_practise/blob/main/adult.ipynb\" target=\"_parent\"><img src=\"https://colab.research.google.com/assets/colab-badge.svg\" alt=\"Open In Colab\"/></a>"
      ]
    },
    {
      "cell_type": "code",
      "execution_count": null,
      "metadata": {
        "colab": {
          "base_uri": "https://localhost:8080/"
        },
        "id": "wBsCFs4ounrM",
        "outputId": "7990ccfc-f9e0-4463-98b9-5388a4d4bf5f"
      },
      "outputs": [
        {
          "output_type": "stream",
          "name": "stdout",
          "text": [
            "/content/drive/My Drive/빅데이터분석기사 실기\n"
          ]
        }
      ],
      "source": [
        "cd drive/My Drive/빅데이터분석기사 실기/adult"
      ]
    },
    {
      "cell_type": "markdown",
      "source": [
        "# 성인 인구조사 소득 예측\n",
        "\n",
        "- age: 나이\n",
        "- workclass: 고용 형태\n",
        "- fnlwgt: 사람의 대표성을 나타내는 가중치(final weight)\n",
        "- education: 교육 수준\n",
        "- education.num: 교육 수준 수치\n",
        "- marital.status: 결혼 상태\n",
        "- occupation: 업종\n",
        "- relationship: 가족 관계\n",
        "- race: 인종\n",
        "- sex: 성별\n",
        "- capital.gain: 양도 소득\n",
        "- capital.loss: 양도 손실\n",
        "- hours.per.week: 주당 근무 시간\n",
        "- native.country: 국적\n",
        "- income: 수익 (예측해야 하는 값)"
      ],
      "metadata": {
        "id": "ZWGfSzgyu8jA"
      }
    },
    {
      "cell_type": "code",
      "source": [
        "# 시험환경 세팅 (코드 변경 X)\n",
        "import pandas as pd\n",
        "import numpy as np\n",
        "from sklearn.model_selection import train_test_split\n",
        "\n",
        "def exam_data_load(df, target, id_name=\"\", null_name=\"\"):\n",
        "    if id_name == \"\":\n",
        "        df = df.reset_index().rename(columns={\"index\": \"id\"})\n",
        "        id_name = 'id'\n",
        "    else:\n",
        "        id_name = id_name\n",
        "    \n",
        "    if null_name != \"\":\n",
        "        df[df == null_name] = np.nan\n",
        "    \n",
        "    X_train, X_test = train_test_split(df, test_size=0.2, random_state=2021)\n",
        "    \n",
        "    y_train = X_train[[id_name, target]]\n",
        "    X_train = X_train.drop(columns=[target])\n",
        "\n",
        "    \n",
        "    y_test = X_test[[id_name, target]]\n",
        "    X_test = X_test.drop(columns=[target])\n",
        "    return X_train, X_test, y_train, y_test \n",
        "    \n",
        "df = pd.read_csv(\"adult.csv\")\n",
        "X_train, X_test, y_train, y_test = exam_data_load(df, target='income', null_name='?')\n",
        "\n",
        "X_train.shape, X_test.shape, y_train.shape, y_test.shape\n",
        "\n",
        "# 타겟변수 라벨링 변경(0: 50k 이하, 1: 50k 초과)\n",
        "y_train[\"income\"] = y_train[\"income\"].replace([\">50K\",\"<=50K\"],[1,0])\n",
        "y_test[\"income\"] = y_test[\"income\"].replace([\">50K\",\"<=50K\"],[1,0])\n",
        "\n",
        "#id열은 분리 후 따로 저장하고 데이터에서 삭제한다.\n",
        "X_train_id = X_train[\"id\"]\n",
        "X_test_id = X_test[\"id\"]\n",
        "y_train_id = y_train[\"id\"]\n",
        "y_test_id = y_test[\"id\"]\n",
        "X_train = X_train.iloc[:,1:]\n",
        "X_test = X_test.iloc[:,1:]\n",
        "y_train = y_train.iloc[:,1:]\n",
        "y_test = y_test.iloc[:,1:]\n",
        "\n",
        "## 전처리\n",
        "# display(X_train.describe(include = \"object\"), X_train.describe())\n",
        "# display(X_test.describe(include = \"object\"),X_test.describe())\n",
        "\n",
        "### 결측치 처리\n",
        "\n",
        "# print(X_train.isna().sum(), X_test.isna().sum())\n",
        "\n",
        "#수치형 변수는 결측치가 존재하지 않고 범주형 변수는 결측치를 최대 빈도수인 개체로 대체해준다.\n",
        "\n",
        "X_train[\"workclass\"] = X_train[\"workclass\"].replace(np.nan,X_train[\"workclass\"].value_counts(ascending = False).index[0])\n",
        "X_train[\"occupation\"] = X_train[\"occupation\"].replace(np.nan,X_train[\"occupation\"].value_counts(ascending = False).index[0])\n",
        "X_train[\"native.country\"] = X_train[\"native.country\"].replace(np.nan,X_train[\"native.country\"].value_counts(ascending = False).index[0])\n",
        "\n",
        "X_test[\"workclass\"] = X_test[\"workclass\"].replace(np.nan,X_test[\"workclass\"].value_counts(ascending = False).index[0])\n",
        "X_test[\"occupation\"] = X_test[\"occupation\"].replace(np.nan,X_test[\"occupation\"].value_counts(ascending = False).index[0])\n",
        "X_test[\"native.country\"] = X_test[\"native.country\"].replace(np.nan,X_test[\"native.country\"].value_counts(ascending = False).index[0])\n",
        "\n",
        "# print(X_train.isna().sum(), X_test.isna().sum())\n",
        "\n",
        "### 변환(로그,제곱근,지수)\n",
        "#print(X_train.skew(),\"\\n\\n\",X_train.kurt())\n",
        "#print(np.log1p(X_train.iloc[:,[0,2,4,10,11,12]]).skew(),np.log1p(X_train.iloc[:,[0,2,4,10,11,12]]).kurt())\n",
        "#print(np.sqrt(X_train.iloc[:,[0,2,4,10,11,12]]).skew(),np.sqrt(X_train.iloc[:,[0,2,4,10,11,12]]).kurt())\n",
        "#print(((X_train.iloc[:,[0,2,4,10,11,12]])**2).skew(),(X_train.iloc[:,[0,2,4,10,11,12]]**2).kurt())\n",
        "#print(((X_train.iloc[:,[0,2,4,10,11,12]])**3).skew(),(X_train.iloc[:,[0,2,4,10,11,12]]**3).kurt())\n",
        "\n",
        "X_train.iloc[:,[0,10,11]] = np.log1p(X_train.iloc[:,[0,10,11]])\n",
        "X_train.iloc[:,2] = np.sqrt(X_train.iloc[:,2])\n",
        "X_test.iloc[:,[0,10,11]] = np.log1p(X_test.iloc[:,[0,10,11]])\n",
        "X_test.iloc[:,2] = np.sqrt(X_test.iloc[:,2])\n",
        "#print(X_train.skew(),\"\\n\\n\",X_train.kurt())\n",
        "\n",
        "### 정규화(StandardScaler)\n",
        "\n",
        "from sklearn.preprocessing import StandardScaler  \n",
        "\n",
        "scaler = StandardScaler()\n",
        "\n",
        "X_train.iloc[:,[0,2,4,10,11,12]] = pd.DataFrame(scaler.fit_transform(X_train.iloc[:,[0,2,4,10,11,12]]), columns = X_train.iloc[:,[0,2,4,10,11,12]].columns,index = X_train.iloc[:,[0,2,4,10,11,12]].index )\n",
        "X_test.iloc[:,[0,2,4,10,11,12]] = pd.DataFrame(scaler.transform(X_test.iloc[:,[0,2,4,10,11,12]]), columns = X_test.iloc[:,[0,2,4,10,11,12]].columns, index = X_test.iloc[:,[0,2,4,10,11,12]].index)\n",
        "\n",
        "### 범주형변수 더미화\n",
        "\n",
        "X_train = pd.get_dummies(X_train,drop_first = True)\n",
        "X_test = pd.get_dummies(X_test,drop_first = True)\n",
        "\n",
        "#print(X_train.shape, X_test.shape) # 두 데이터셋의 열 갯수가 다르다\n",
        "\n",
        "diff = list(set(X_train.columns) - set(X_test.columns)) #차이를 찾는다\n",
        "diff\n",
        "\n",
        "X_train = X_train.drop(diff,axis = 1) #test data에 없는 변수를 지워준다.\n",
        "\n",
        "#print(X_train.shape, X_test.shape) #동일한 형태로 바뀌었다.\n",
        "\n",
        "### 모델링(RandomForestClassfier)\n",
        "\n",
        "from sklearn.ensemble import RandomForestClassifier\n",
        "from sklearn.metrics import roc_auc_score\n",
        "\n",
        "rf = RandomForestClassifier(n_estimators = 200, max_depth = 7, min_samples_split = 10, random_state = 999)\n",
        "\n",
        "rf.fit(X_train, y_train)\n",
        "\n",
        "print(\"accuracy : \" , rf.score(X_train,y_train), \n",
        "      \"roc_auc_score : \", roc_auc_score(y_train, rf.predict(X_train)))\n",
        "\n",
        "### 모델링(XGBClassifier)\n",
        "\n",
        "from xgboost import XGBClassifier\n",
        "\n",
        "xgb = XGBClassifier(n_estimators = 200, max_depth = 7, subsample = 0.5, random_state = 999)\n",
        "xgb.fit(X_train,y_train,eval_metric = \"auc\")\n",
        "print(\"accuracy : \" , xgb.score(X_train,y_train),\n",
        "      \"roc_auc_score : \", roc_auc_score(y_train, xgb.predict(X_train)))\n",
        "\n",
        "\n",
        "# XGBoost 모델이 성능이 더 좋아보여 XGBoost 모델을 사용하여 예측값을 구하였다.\n",
        "\n",
        "pred = xgb.predict(X_test) #예측값\n",
        "pred_prob = xgb.predict_proba(X_test)[:,0] #0일 확률(50K이하)\n",
        "final1 = pd.DataFrame({\"id\" : y_test_id, \"pred\" : pred})\n",
        "final2 = pd.DataFrame({\"id\" : y_test_id, \"prob_0\" : pred_prob})\n",
        "# final1.to_csv(\"0040023351.csv\",index=False) #csv생성\n"
      ],
      "metadata": {
        "colab": {
          "base_uri": "https://localhost:8080/"
        },
        "id": "0c7Iq9pNvD--",
        "outputId": "4038892c-d25d-4e30-ac40-f3a5b71c2f7a"
      },
      "execution_count": null,
      "outputs": [
        {
          "output_type": "stream",
          "name": "stderr",
          "text": [
            "/usr/local/lib/python3.7/dist-packages/ipykernel_launcher.py:108: DataConversionWarning: A column-vector y was passed when a 1d array was expected. Please change the shape of y to (n_samples,), for example using ravel().\n"
          ]
        },
        {
          "output_type": "stream",
          "name": "stdout",
          "text": [
            "accuracy :  0.8518888206388207 roc_auc_score :  0.7311677996027054\n"
          ]
        },
        {
          "output_type": "stream",
          "name": "stderr",
          "text": [
            "/usr/local/lib/python3.7/dist-packages/sklearn/preprocessing/_label.py:98: DataConversionWarning: A column-vector y was passed when a 1d array was expected. Please change the shape of y to (n_samples, ), for example using ravel().\n",
            "  y = column_or_1d(y, warn=True)\n",
            "/usr/local/lib/python3.7/dist-packages/sklearn/preprocessing/_label.py:133: DataConversionWarning: A column-vector y was passed when a 1d array was expected. Please change the shape of y to (n_samples, ), for example using ravel().\n",
            "  y = column_or_1d(y, warn=True)\n"
          ]
        },
        {
          "output_type": "stream",
          "name": "stdout",
          "text": [
            "accuracy :  0.9087070024570024 roc_auc_score :  0.8528934115085158\n"
          ]
        }
      ]
    },
    {
      "cell_type": "code",
      "source": [
        "pd.read_csv(\"0040023351.csv\")"
      ],
      "metadata": {
        "colab": {
          "base_uri": "https://localhost:8080/",
          "height": 424
        },
        "id": "1QjkPFXmXymO",
        "outputId": "d3ad0b8e-8f15-4239-bc49-2854980b8e6c"
      },
      "execution_count": null,
      "outputs": [
        {
          "output_type": "execute_result",
          "data": {
            "text/plain": [
              "         id  pred\n",
              "0     20901     0\n",
              "1     14170     0\n",
              "2      1776     1\n",
              "3     30428     0\n",
              "4      8602     0\n",
              "...     ...   ...\n",
              "6508  31222     0\n",
              "6509  10861     0\n",
              "6510   8929     0\n",
              "6511   2066     1\n",
              "6512  25782     1\n",
              "\n",
              "[6513 rows x 2 columns]"
            ],
            "text/html": [
              "\n",
              "  <div id=\"df-adaa72ab-0a2d-42fd-b2e1-21c9498ba41f\">\n",
              "    <div class=\"colab-df-container\">\n",
              "      <div>\n",
              "<style scoped>\n",
              "    .dataframe tbody tr th:only-of-type {\n",
              "        vertical-align: middle;\n",
              "    }\n",
              "\n",
              "    .dataframe tbody tr th {\n",
              "        vertical-align: top;\n",
              "    }\n",
              "\n",
              "    .dataframe thead th {\n",
              "        text-align: right;\n",
              "    }\n",
              "</style>\n",
              "<table border=\"1\" class=\"dataframe\">\n",
              "  <thead>\n",
              "    <tr style=\"text-align: right;\">\n",
              "      <th></th>\n",
              "      <th>id</th>\n",
              "      <th>pred</th>\n",
              "    </tr>\n",
              "  </thead>\n",
              "  <tbody>\n",
              "    <tr>\n",
              "      <th>0</th>\n",
              "      <td>20901</td>\n",
              "      <td>0</td>\n",
              "    </tr>\n",
              "    <tr>\n",
              "      <th>1</th>\n",
              "      <td>14170</td>\n",
              "      <td>0</td>\n",
              "    </tr>\n",
              "    <tr>\n",
              "      <th>2</th>\n",
              "      <td>1776</td>\n",
              "      <td>1</td>\n",
              "    </tr>\n",
              "    <tr>\n",
              "      <th>3</th>\n",
              "      <td>30428</td>\n",
              "      <td>0</td>\n",
              "    </tr>\n",
              "    <tr>\n",
              "      <th>4</th>\n",
              "      <td>8602</td>\n",
              "      <td>0</td>\n",
              "    </tr>\n",
              "    <tr>\n",
              "      <th>...</th>\n",
              "      <td>...</td>\n",
              "      <td>...</td>\n",
              "    </tr>\n",
              "    <tr>\n",
              "      <th>6508</th>\n",
              "      <td>31222</td>\n",
              "      <td>0</td>\n",
              "    </tr>\n",
              "    <tr>\n",
              "      <th>6509</th>\n",
              "      <td>10861</td>\n",
              "      <td>0</td>\n",
              "    </tr>\n",
              "    <tr>\n",
              "      <th>6510</th>\n",
              "      <td>8929</td>\n",
              "      <td>0</td>\n",
              "    </tr>\n",
              "    <tr>\n",
              "      <th>6511</th>\n",
              "      <td>2066</td>\n",
              "      <td>1</td>\n",
              "    </tr>\n",
              "    <tr>\n",
              "      <th>6512</th>\n",
              "      <td>25782</td>\n",
              "      <td>1</td>\n",
              "    </tr>\n",
              "  </tbody>\n",
              "</table>\n",
              "<p>6513 rows × 2 columns</p>\n",
              "</div>\n",
              "      <button class=\"colab-df-convert\" onclick=\"convertToInteractive('df-adaa72ab-0a2d-42fd-b2e1-21c9498ba41f')\"\n",
              "              title=\"Convert this dataframe to an interactive table.\"\n",
              "              style=\"display:none;\">\n",
              "        \n",
              "  <svg xmlns=\"http://www.w3.org/2000/svg\" height=\"24px\"viewBox=\"0 0 24 24\"\n",
              "       width=\"24px\">\n",
              "    <path d=\"M0 0h24v24H0V0z\" fill=\"none\"/>\n",
              "    <path d=\"M18.56 5.44l.94 2.06.94-2.06 2.06-.94-2.06-.94-.94-2.06-.94 2.06-2.06.94zm-11 1L8.5 8.5l.94-2.06 2.06-.94-2.06-.94L8.5 2.5l-.94 2.06-2.06.94zm10 10l.94 2.06.94-2.06 2.06-.94-2.06-.94-.94-2.06-.94 2.06-2.06.94z\"/><path d=\"M17.41 7.96l-1.37-1.37c-.4-.4-.92-.59-1.43-.59-.52 0-1.04.2-1.43.59L10.3 9.45l-7.72 7.72c-.78.78-.78 2.05 0 2.83L4 21.41c.39.39.9.59 1.41.59.51 0 1.02-.2 1.41-.59l7.78-7.78 2.81-2.81c.8-.78.8-2.07 0-2.86zM5.41 20L4 18.59l7.72-7.72 1.47 1.35L5.41 20z\"/>\n",
              "  </svg>\n",
              "      </button>\n",
              "      \n",
              "  <style>\n",
              "    .colab-df-container {\n",
              "      display:flex;\n",
              "      flex-wrap:wrap;\n",
              "      gap: 12px;\n",
              "    }\n",
              "\n",
              "    .colab-df-convert {\n",
              "      background-color: #E8F0FE;\n",
              "      border: none;\n",
              "      border-radius: 50%;\n",
              "      cursor: pointer;\n",
              "      display: none;\n",
              "      fill: #1967D2;\n",
              "      height: 32px;\n",
              "      padding: 0 0 0 0;\n",
              "      width: 32px;\n",
              "    }\n",
              "\n",
              "    .colab-df-convert:hover {\n",
              "      background-color: #E2EBFA;\n",
              "      box-shadow: 0px 1px 2px rgba(60, 64, 67, 0.3), 0px 1px 3px 1px rgba(60, 64, 67, 0.15);\n",
              "      fill: #174EA6;\n",
              "    }\n",
              "\n",
              "    [theme=dark] .colab-df-convert {\n",
              "      background-color: #3B4455;\n",
              "      fill: #D2E3FC;\n",
              "    }\n",
              "\n",
              "    [theme=dark] .colab-df-convert:hover {\n",
              "      background-color: #434B5C;\n",
              "      box-shadow: 0px 1px 3px 1px rgba(0, 0, 0, 0.15);\n",
              "      filter: drop-shadow(0px 1px 2px rgba(0, 0, 0, 0.3));\n",
              "      fill: #FFFFFF;\n",
              "    }\n",
              "  </style>\n",
              "\n",
              "      <script>\n",
              "        const buttonEl =\n",
              "          document.querySelector('#df-adaa72ab-0a2d-42fd-b2e1-21c9498ba41f button.colab-df-convert');\n",
              "        buttonEl.style.display =\n",
              "          google.colab.kernel.accessAllowed ? 'block' : 'none';\n",
              "\n",
              "        async function convertToInteractive(key) {\n",
              "          const element = document.querySelector('#df-adaa72ab-0a2d-42fd-b2e1-21c9498ba41f');\n",
              "          const dataTable =\n",
              "            await google.colab.kernel.invokeFunction('convertToInteractive',\n",
              "                                                     [key], {});\n",
              "          if (!dataTable) return;\n",
              "\n",
              "          const docLinkHtml = 'Like what you see? Visit the ' +\n",
              "            '<a target=\"_blank\" href=https://colab.research.google.com/notebooks/data_table.ipynb>data table notebook</a>'\n",
              "            + ' to learn more about interactive tables.';\n",
              "          element.innerHTML = '';\n",
              "          dataTable['output_type'] = 'display_data';\n",
              "          await google.colab.output.renderOutput(dataTable, element);\n",
              "          const docLink = document.createElement('div');\n",
              "          docLink.innerHTML = docLinkHtml;\n",
              "          element.appendChild(docLink);\n",
              "        }\n",
              "      </script>\n",
              "    </div>\n",
              "  </div>\n",
              "  "
            ]
          },
          "metadata": {},
          "execution_count": 156
        }
      ]
    },
    {
      "cell_type": "code",
      "source": [
        "print(\"accuracy : \" , rf.score(X_test,y_test), \n",
        "      \"roc_auc_score : \", roc_auc_score(y_test, rf.predict(X_test)))\n",
        "print(\"accuracy : \" , xgb.score(X_test,y_test), \n",
        "      \"roc_auc_score : \", roc_auc_score(y_test, xgb.predict(X_test)))"
      ],
      "metadata": {
        "colab": {
          "base_uri": "https://localhost:8080/"
        },
        "id": "2E2-kxZCVKYP",
        "outputId": "72fe05dd-047f-4ab0-8fe1-3651c82de736"
      },
      "execution_count": null,
      "outputs": [
        {
          "output_type": "stream",
          "name": "stdout",
          "text": [
            "accuracy :  0.8493781667434362 roc_auc_score :  0.7237596817161028\n",
            "accuracy :  0.874251497005988 roc_auc_score :  0.799368168697124\n"
          ]
        }
      ]
    }
  ]
}